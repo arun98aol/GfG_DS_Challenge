{
 "cells": [
  {
   "cell_type": "markdown",
   "id": "abe32345",
   "metadata": {},
   "source": [
    "<a id=\"summary\"></a>\n",
    "# GfG Data Science Challenge: Swiggy Dataset Analysis\n",
    "Author: Arun Ganapathy (arun98.aol@gmail.com) <br>\n",
    "Date  : 5th August 2023\n",
    "## Overview\n",
    "\n",
    "Exploratory Analysis + Questions asked\n",
    "\n",
    "1. [How many cities (including subregions) have Swiggy restaurants listed?](#q1)\n",
    "2. [How many cities (excluding subregions) have Swiggy restaurants listed?](#q2)\n",
    "3. [Which Subregion of Delhi has the maximum number of restaurants listed on Swiggy?](#q3)\n",
    "4. [Name the top 5 Most Expensive Cities in the Datasets.](#q4)\n",
    "5. [List out the top 5 Restaurants with Maximum & Minimum ratings throughout the dataset.](#q5)\n",
    "6. [Name the top 5 cities with the highest number of restaurants listed.](#q6)\n",
    "7. [List the Top 10 cities as per the number of restaurants listed.](#q7)\n",
    "8. [Name the top 5 Most Popular Restaurants in Pune.](#q8)\n",
    "9. [Which SubRegion in Delhi has the least expensive restaurant in terms of cost?](#q9)\n",
    "10. [List the Top 5 most popular restaurant chains in India.](#q10)\n",
    "11. [Which restaurant in Pune has the most number of people visiting?](#q11)\n",
    "12. [List the Top 10 Restaurants with Maximum Ratings in Bangalore.](#q12)\n",
    "13. [List the Top 10 Restaurants in Patna with the highest ratings.](#q13)\n",
    "\n",
    "Note: Tasks marked with a link have been completed.\n"
   ]
  },
  {
   "cell_type": "markdown",
   "id": "2e7b0efd",
   "metadata": {},
   "source": [
    "## Data Exploration & Manipulation\n",
    "\n",
    "1. Understanding the data structure and key hierarchy\n",
    "2. Manipulate data as required and save it as a parquet file if required"
   ]
  },
  {
   "cell_type": "code",
   "execution_count": 1,
   "id": "8dd928b5",
   "metadata": {},
   "outputs": [],
   "source": [
    "import pandas as pd\n",
    "import json\n",
    "import numpy as np\n",
    "import multiprocessing as mp\n",
    "from tqdm import tqdm\n",
    "import os\n",
    "import matplotlib.pyplot as plt\n",
    "from IPython.display import Markdown, display\n",
    "import warnings\n",
    "\n",
    "def apply_common_styling(df):\n",
    "    rounded_df = df.round(2)\n",
    "\n",
    "    styled_df = rounded_df.style.set_table_styles([\n",
    "        {'selector': 'thead',\n",
    "         'props': [('background-color', 'skyblue'),\n",
    "                   ('font-size', '14px'),\n",
    "                   ('font-weight', 'bold')]},\n",
    "        {'selector': 'tbody',\n",
    "         'props': [('font-size', '12px')]},\n",
    "        {'selector': 'th',\n",
    "         'props': [('text-align', 'center'),\n",
    "                   ('font-size', '12px')]},\n",
    "        {'selector': 'td',\n",
    "         'props': [('text-align', 'left')]},\n",
    "        {'selector': '.row_heading',\n",
    "         'props': [('display', 'none')]},\n",
    "        {'selector': '.blank.level0',\n",
    "         'props': [('display', 'none')]}\n",
    "    ])\n",
    "    \n",
    "    return styled_df"
   ]
  },
  {
   "cell_type": "markdown",
   "id": "02e5b42f",
   "metadata": {},
   "source": [
    "### <i>Notes</i>\n",
    "\n",
    "Visible Hierarchy\n",
    "\n",
    "<code>FOR EACH CITY:\n",
    "    IF no sub-region:\n",
    "        - city -> link or restaurants #FOR full description of each restaurant\n",
    "    IF sub-region\n",
    "        - city -> sub-regions -> link -> restaurants #FOR summary of each restauran\n",
    "        - city -> sub-regions -> restaurants #FOR full description of each restaurant\n",
    "</code>\n",
    "\n",
    "DATA CLEANING:\n",
    "\n",
    "- City \"Hinganghat\" -> Restaurant \"KOHINOOR HOTEL\" removed (reason: permanently closed and data entry issue)<br><br>\n",
    "\n",
    "- Current state of cost data:\n",
    "\n",
    "    1. '₹ ' - predecessor\n",
    "    2. '₹'  - predecessor and ' FOR TWO' - successor\n",
    "    3. 'NA' - null values"
   ]
  },
  {
   "cell_type": "code",
   "execution_count": 2,
   "id": "aa412424",
   "metadata": {},
   "outputs": [
    {
     "data": {
      "text/html": [
       "<style type=\"text/css\">\n",
       "#T_50b15_ thead {\n",
       "  background-color: skyblue;\n",
       "  font-size: 14px;\n",
       "  font-weight: bold;\n",
       "}\n",
       "#T_50b15_ tbody {\n",
       "  font-size: 12px;\n",
       "}\n",
       "#T_50b15_ th {\n",
       "  text-align: center;\n",
       "  font-size: 12px;\n",
       "}\n",
       "#T_50b15_ td {\n",
       "  text-align: left;\n",
       "}\n",
       "#T_50b15_ .row_heading {\n",
       "  display: none;\n",
       "}\n",
       "#T_50b15_ .blank.level0 {\n",
       "  display: none;\n",
       "}\n",
       "</style>\n",
       "<table id=\"T_50b15_\">\n",
       "  <thead>\n",
       "    <tr>\n",
       "      <th class=\"blank level0\" >&nbsp;</th>\n",
       "      <th class=\"col_heading level0 col0\" >city</th>\n",
       "      <th class=\"col_heading level0 col1\" >sub-region</th>\n",
       "      <th class=\"col_heading level0 col2\" >level</th>\n",
       "      <th class=\"col_heading level0 col3\" >restaurant</th>\n",
       "      <th class=\"col_heading level0 col4\" >cost</th>\n",
       "      <th class=\"col_heading level0 col5\" >rating</th>\n",
       "      <th class=\"col_heading level0 col6\" >rating_count</th>\n",
       "      <th class=\"col_heading level0 col7\" >cost_val</th>\n",
       "    </tr>\n",
       "  </thead>\n",
       "  <tbody>\n",
       "    <tr>\n",
       "      <th id=\"T_50b15_level0_row0\" class=\"row_heading level0 row0\" >0</th>\n",
       "      <td id=\"T_50b15_row0_col0\" class=\"data row0 col0\" >Bantwal</td>\n",
       "      <td id=\"T_50b15_row0_col1\" class=\"data row0 col1\" >None</td>\n",
       "      <td id=\"T_50b15_row0_col2\" class=\"data row0 col2\" >city</td>\n",
       "      <td id=\"T_50b15_row0_col3\" class=\"data row0 col3\" >Krishnima Veg</td>\n",
       "      <td id=\"T_50b15_row0_col4\" class=\"data row0 col4\" >₹ 200</td>\n",
       "      <td id=\"T_50b15_row0_col5\" class=\"data row0 col5\" >4.1</td>\n",
       "      <td id=\"T_50b15_row0_col6\" class=\"data row0 col6\" >50+ ratings</td>\n",
       "      <td id=\"T_50b15_row0_col7\" class=\"data row0 col7\" >200.000000</td>\n",
       "    </tr>\n",
       "    <tr>\n",
       "      <th id=\"T_50b15_level0_row1\" class=\"row_heading level0 row1\" >1</th>\n",
       "      <td id=\"T_50b15_row1_col0\" class=\"data row1 col0\" >Bantwal</td>\n",
       "      <td id=\"T_50b15_row1_col1\" class=\"data row1 col1\" >None</td>\n",
       "      <td id=\"T_50b15_row1_col2\" class=\"data row1 col2\" >city</td>\n",
       "      <td id=\"T_50b15_row1_col3\" class=\"data row1 col3\" >Aania Darbar</td>\n",
       "      <td id=\"T_50b15_row1_col4\" class=\"data row1 col4\" >₹ 200</td>\n",
       "      <td id=\"T_50b15_row1_col5\" class=\"data row1 col5\" >3.8</td>\n",
       "      <td id=\"T_50b15_row1_col6\" class=\"data row1 col6\" >50+ ratings</td>\n",
       "      <td id=\"T_50b15_row1_col7\" class=\"data row1 col7\" >200.000000</td>\n",
       "    </tr>\n",
       "    <tr>\n",
       "      <th id=\"T_50b15_level0_row2\" class=\"row_heading level0 row2\" >2</th>\n",
       "      <td id=\"T_50b15_row2_col0\" class=\"data row2 col0\" >Bantwal</td>\n",
       "      <td id=\"T_50b15_row2_col1\" class=\"data row2 col1\" >None</td>\n",
       "      <td id=\"T_50b15_row2_col2\" class=\"data row2 col2\" >city</td>\n",
       "      <td id=\"T_50b15_row2_col3\" class=\"data row2 col3\" >Sanman Bar and Restaurant</td>\n",
       "      <td id=\"T_50b15_row2_col4\" class=\"data row2 col4\" >₹ 200</td>\n",
       "      <td id=\"T_50b15_row2_col5\" class=\"data row2 col5\" >4.0</td>\n",
       "      <td id=\"T_50b15_row2_col6\" class=\"data row2 col6\" >100+ ratings</td>\n",
       "      <td id=\"T_50b15_row2_col7\" class=\"data row2 col7\" >200.000000</td>\n",
       "    </tr>\n",
       "    <tr>\n",
       "      <th id=\"T_50b15_level0_row3\" class=\"row_heading level0 row3\" >3</th>\n",
       "      <td id=\"T_50b15_row3_col0\" class=\"data row3 col0\" >Bantwal</td>\n",
       "      <td id=\"T_50b15_row3_col1\" class=\"data row3 col1\" >None</td>\n",
       "      <td id=\"T_50b15_row3_col2\" class=\"data row3 col2\" >city</td>\n",
       "      <td id=\"T_50b15_row3_col3\" class=\"data row3 col3\" >Chikori Bar and Restaurant</td>\n",
       "      <td id=\"T_50b15_row3_col4\" class=\"data row3 col4\" >₹ 200</td>\n",
       "      <td id=\"T_50b15_row3_col5\" class=\"data row3 col5\" >3.8</td>\n",
       "      <td id=\"T_50b15_row3_col6\" class=\"data row3 col6\" >50+ ratings</td>\n",
       "      <td id=\"T_50b15_row3_col7\" class=\"data row3 col7\" >200.000000</td>\n",
       "    </tr>\n",
       "    <tr>\n",
       "      <th id=\"T_50b15_level0_row4\" class=\"row_heading level0 row4\" >4</th>\n",
       "      <td id=\"T_50b15_row4_col0\" class=\"data row4 col0\" >Bantwal</td>\n",
       "      <td id=\"T_50b15_row4_col1\" class=\"data row4 col1\" >None</td>\n",
       "      <td id=\"T_50b15_row4_col2\" class=\"data row4 col2\" >city</td>\n",
       "      <td id=\"T_50b15_row4_col3\" class=\"data row4 col3\" >Laziz pizza</td>\n",
       "      <td id=\"T_50b15_row4_col4\" class=\"data row4 col4\" >₹ 300</td>\n",
       "      <td id=\"T_50b15_row4_col5\" class=\"data row4 col5\" >3.8</td>\n",
       "      <td id=\"T_50b15_row4_col6\" class=\"data row4 col6\" >50+ ratings</td>\n",
       "      <td id=\"T_50b15_row4_col7\" class=\"data row4 col7\" >300.000000</td>\n",
       "    </tr>\n",
       "  </tbody>\n",
       "</table>\n"
      ],
      "text/plain": [
       "<pandas.io.formats.style.Styler at 0x7fdea565d550>"
      ]
     },
     "metadata": {},
     "output_type": "display_data"
    }
   ],
   "source": [
    "# create a clean parquet file (quicker reading -> file size)\n",
    "# use the hierarchy above to extract restaurants from the data (this auto excludes keys that have nothing listed)\n",
    "# use multi-processing\n",
    "def rest_from_city(city):\n",
    "    rest_df = pd.DataFrame(columns=['city', 'sub-region', 'level', 'restaurant', 'cost', 'rating', 'rating_count'])\n",
    "    temp = {}\n",
    "    if 'restaurants' in data[city].keys():\n",
    "        temp['city'] = city\n",
    "        temp['level'] = 'city'\n",
    "        rest_ids = data[city]['restaurants'].keys()\n",
    "        if len(rest_ids):\n",
    "            for rest in rest_ids:\n",
    "                temp['restaurant'] = data[city]['restaurants'][rest]['name']\n",
    "                if 'cost' in data[city]['restaurants'][rest].keys():\n",
    "                    temp['cost'] = data[city]['restaurants'][rest]['cost']\n",
    "                else: \n",
    "                    temp['cost'] = data[city]['restaurants'][rest]['price']\n",
    "                temp['rating'] = data[city]['restaurants'][rest]['rating']\n",
    "                if 'rating_count' not in data[city]['restaurants'][rest].keys() or temp['rating'] == '--':\n",
    "                    temp['rating_count'] = 'not enough ratings'\n",
    "                else:\n",
    "                    temp['rating_count'] = data[city]['restaurants'][rest]['rating_count']\n",
    "                rest_df = rest_df.append(temp, ignore_index=True)\n",
    "    else:\n",
    "        sub_regions = list(data[city].keys())\n",
    "        temp['city'] = city\n",
    "        temp['level'] = 'sub-region'\n",
    "        sub_regions.remove('link')\n",
    "        for subr in sub_regions:\n",
    "            temp['sub-region'] = subr\n",
    "            rest_ids = data[city][subr]['restaurants'].keys()\n",
    "            if len(rest_ids):\n",
    "                for rest in rest_ids:\n",
    "                    temp['restaurant'] = data[city][subr]['restaurants'][rest]['name']\n",
    "                    if 'cost' in data[city][subr]['restaurants'][rest].keys():\n",
    "                        temp['cost'] = data[city][subr]['restaurants'][rest]['cost']\n",
    "                    else: \n",
    "                        temp['cost'] = data[city][subr]['restaurants'][rest]['price']\n",
    "                    temp['rating'] = data[city][subr]['restaurants'][rest]['rating']\n",
    "                    if 'rating_count' not in data[city][subr]['restaurants'][rest].keys() or temp['rating'] == '--':\n",
    "                        temp['rating_count'] = 'not enough ratings'\n",
    "                    else:\n",
    "                        temp['rating_count'] = data[city][subr]['restaurants'][rest]['rating_count']\n",
    "                    rest_df = rest_df.append(temp, ignore_index=True)\n",
    "    return rest_df\n",
    "\n",
    "###################################################################################################################\n",
    "\n",
    "if (os.path.isfile('../data/restaurant_raw.parquet')): \n",
    "    rest_df = pd.read_parquet('../data/restaurant_raw.parquet')\n",
    "else:\n",
    "    # read the dataset\n",
    "    with open('../data/data.json', 'r') as file:\n",
    "        data = json.load(file)\n",
    "    cities = data.keys() # CITIES\n",
    "    rest_df = pd.DataFrame(columns=['city', 'sub-region', 'level', 'restaurant', 'cost', 'rating', 'rating_count'])\n",
    "    pool = mp.Pool(os.cpu_count()-1) \n",
    "    with tqdm(total=len(cities), desc=\"Processing cities\") as pbar:\n",
    "        for city_df in pool.imap_unordered(rest_from_city, cities):\n",
    "            rest_df = pd.concat([rest_df, city_df], ignore_index=True)\n",
    "            pbar.update(1)\n",
    "    pool.close()\n",
    "    pool.join()\n",
    "    \n",
    "    # Handling 1\n",
    "    rest_df['cost_val'] = rest_df.cost.apply(lambda x: float(x.split()[1]) \n",
    "                                          if (type(x) == str and x[0] == '₹' and len(x.split()) == 2) \n",
    "                                          else x)\n",
    "    # Handling 3\n",
    "    rest_df['cost_val'] = rest_df.cost_val.apply(lambda x: None if x == 'NA' else x)\n",
    "\n",
    "    # Handling 2 (other costs for 1 probably, so divide by 2)\n",
    "    rest_df['cost_val'] = rest_df.cost_val.apply(lambda x: float(x.split('₹')[1].split()[0])/2 \n",
    "                                          if (type(x) == str and x[0] == '₹' and len(x.split()) != 2) \n",
    "                                          else x)\n",
    "    # saving the raw data\n",
    "    rest_df.to_parquet('../data/restaurant_raw.parquet', index = False)\n",
    "\n",
    "display(apply_common_styling(rest_df.round(2).head()))"
   ]
  },
  {
   "cell_type": "code",
   "execution_count": 3,
   "id": "fd1176f2",
   "metadata": {},
   "outputs": [],
   "source": [
    "# drop KOHINOOR - explained above\n",
    "index_to_drop = rest_df[(rest_df.city == 'Hinganghat') & (rest_df.restaurant == \"KOHINOOR HOTEL\")].index\n",
    "rest_df.drop(index_to_drop, inplace=True)"
   ]
  },
  {
   "cell_type": "code",
   "execution_count": 4,
   "id": "5d4e54b9",
   "metadata": {},
   "outputs": [
    {
     "name": "stdout",
     "output_type": "stream",
     "text": [
      "         Column  Null Percentage\n",
      "1    sub-region        32.432763\n",
      "7      cost_val         0.092382\n",
      "0          city         0.000000\n",
      "2         level         0.000000\n",
      "3    restaurant         0.000000\n",
      "4          cost         0.000000\n",
      "5        rating         0.000000\n",
      "6  rating_count         0.000000\n"
     ]
    }
   ],
   "source": [
    "# Calculate the percentage of null values in each column\n",
    "null_percentage = (rest_df.isnull().sum() / len(rest_df)) * 100\n",
    "# Create a DataFrame to display the null percentage for each column\n",
    "null_percentage_df = pd.DataFrame({'Column': null_percentage.index, 'Null Percentage': null_percentage.values})\n",
    "# Sort the DataFrame by null percentage in descending order\n",
    "null_percentage_df = null_percentage_df.sort_values(by='Null Percentage', ascending=False)\n",
    "# Display the DataFrame\n",
    "print(null_percentage_df)"
   ]
  },
  {
   "cell_type": "code",
   "execution_count": 5,
   "id": "610a54ea",
   "metadata": {},
   "outputs": [
    {
     "data": {
      "text/html": [
       "<style type=\"text/css\">\n",
       "#T_42b0a_ thead {\n",
       "  background-color: skyblue;\n",
       "  font-size: 14px;\n",
       "  font-weight: bold;\n",
       "}\n",
       "#T_42b0a_ tbody {\n",
       "  font-size: 12px;\n",
       "}\n",
       "#T_42b0a_ th {\n",
       "  text-align: center;\n",
       "  font-size: 12px;\n",
       "}\n",
       "#T_42b0a_ td {\n",
       "  text-align: left;\n",
       "}\n",
       "#T_42b0a_ .row_heading {\n",
       "  display: none;\n",
       "}\n",
       "#T_42b0a_ .blank.level0 {\n",
       "  display: none;\n",
       "}\n",
       "</style>\n",
       "<table id=\"T_42b0a_\">\n",
       "  <thead>\n",
       "    <tr>\n",
       "      <th class=\"blank level0\" >&nbsp;</th>\n",
       "      <th class=\"col_heading level0 col0\" >city</th>\n",
       "      <th class=\"col_heading level0 col1\" >sub-region</th>\n",
       "      <th class=\"col_heading level0 col2\" >level</th>\n",
       "      <th class=\"col_heading level0 col3\" >restaurant</th>\n",
       "      <th class=\"col_heading level0 col4\" >cost</th>\n",
       "      <th class=\"col_heading level0 col5\" >rating</th>\n",
       "      <th class=\"col_heading level0 col6\" >rating_count</th>\n",
       "      <th class=\"col_heading level0 col7\" >cost_val</th>\n",
       "    </tr>\n",
       "  </thead>\n",
       "  <tbody>\n",
       "    <tr>\n",
       "      <th id=\"T_42b0a_level0_row0\" class=\"row_heading level0 row0\" >0</th>\n",
       "      <td id=\"T_42b0a_row0_col0\" class=\"data row0 col0\" >Bantwal</td>\n",
       "      <td id=\"T_42b0a_row0_col1\" class=\"data row0 col1\" >None</td>\n",
       "      <td id=\"T_42b0a_row0_col2\" class=\"data row0 col2\" >city</td>\n",
       "      <td id=\"T_42b0a_row0_col3\" class=\"data row0 col3\" >Krishnima Veg</td>\n",
       "      <td id=\"T_42b0a_row0_col4\" class=\"data row0 col4\" >₹ 200</td>\n",
       "      <td id=\"T_42b0a_row0_col5\" class=\"data row0 col5\" >4.1</td>\n",
       "      <td id=\"T_42b0a_row0_col6\" class=\"data row0 col6\" >50+ ratings</td>\n",
       "      <td id=\"T_42b0a_row0_col7\" class=\"data row0 col7\" >200.000000</td>\n",
       "    </tr>\n",
       "    <tr>\n",
       "      <th id=\"T_42b0a_level0_row1\" class=\"row_heading level0 row1\" >1</th>\n",
       "      <td id=\"T_42b0a_row1_col0\" class=\"data row1 col0\" >Bantwal</td>\n",
       "      <td id=\"T_42b0a_row1_col1\" class=\"data row1 col1\" >None</td>\n",
       "      <td id=\"T_42b0a_row1_col2\" class=\"data row1 col2\" >city</td>\n",
       "      <td id=\"T_42b0a_row1_col3\" class=\"data row1 col3\" >Aania Darbar</td>\n",
       "      <td id=\"T_42b0a_row1_col4\" class=\"data row1 col4\" >₹ 200</td>\n",
       "      <td id=\"T_42b0a_row1_col5\" class=\"data row1 col5\" >3.8</td>\n",
       "      <td id=\"T_42b0a_row1_col6\" class=\"data row1 col6\" >50+ ratings</td>\n",
       "      <td id=\"T_42b0a_row1_col7\" class=\"data row1 col7\" >200.000000</td>\n",
       "    </tr>\n",
       "    <tr>\n",
       "      <th id=\"T_42b0a_level0_row2\" class=\"row_heading level0 row2\" >2</th>\n",
       "      <td id=\"T_42b0a_row2_col0\" class=\"data row2 col0\" >Bantwal</td>\n",
       "      <td id=\"T_42b0a_row2_col1\" class=\"data row2 col1\" >None</td>\n",
       "      <td id=\"T_42b0a_row2_col2\" class=\"data row2 col2\" >city</td>\n",
       "      <td id=\"T_42b0a_row2_col3\" class=\"data row2 col3\" >Sanman Bar and Restaurant</td>\n",
       "      <td id=\"T_42b0a_row2_col4\" class=\"data row2 col4\" >₹ 200</td>\n",
       "      <td id=\"T_42b0a_row2_col5\" class=\"data row2 col5\" >4.0</td>\n",
       "      <td id=\"T_42b0a_row2_col6\" class=\"data row2 col6\" >100+ ratings</td>\n",
       "      <td id=\"T_42b0a_row2_col7\" class=\"data row2 col7\" >200.000000</td>\n",
       "    </tr>\n",
       "    <tr>\n",
       "      <th id=\"T_42b0a_level0_row3\" class=\"row_heading level0 row3\" >3</th>\n",
       "      <td id=\"T_42b0a_row3_col0\" class=\"data row3 col0\" >Bantwal</td>\n",
       "      <td id=\"T_42b0a_row3_col1\" class=\"data row3 col1\" >None</td>\n",
       "      <td id=\"T_42b0a_row3_col2\" class=\"data row3 col2\" >city</td>\n",
       "      <td id=\"T_42b0a_row3_col3\" class=\"data row3 col3\" >Chikori Bar and Restaurant</td>\n",
       "      <td id=\"T_42b0a_row3_col4\" class=\"data row3 col4\" >₹ 200</td>\n",
       "      <td id=\"T_42b0a_row3_col5\" class=\"data row3 col5\" >3.8</td>\n",
       "      <td id=\"T_42b0a_row3_col6\" class=\"data row3 col6\" >50+ ratings</td>\n",
       "      <td id=\"T_42b0a_row3_col7\" class=\"data row3 col7\" >200.000000</td>\n",
       "    </tr>\n",
       "    <tr>\n",
       "      <th id=\"T_42b0a_level0_row4\" class=\"row_heading level0 row4\" >4</th>\n",
       "      <td id=\"T_42b0a_row4_col0\" class=\"data row4 col0\" >Bantwal</td>\n",
       "      <td id=\"T_42b0a_row4_col1\" class=\"data row4 col1\" >None</td>\n",
       "      <td id=\"T_42b0a_row4_col2\" class=\"data row4 col2\" >city</td>\n",
       "      <td id=\"T_42b0a_row4_col3\" class=\"data row4 col3\" >Laziz pizza</td>\n",
       "      <td id=\"T_42b0a_row4_col4\" class=\"data row4 col4\" >₹ 300</td>\n",
       "      <td id=\"T_42b0a_row4_col5\" class=\"data row4 col5\" >3.8</td>\n",
       "      <td id=\"T_42b0a_row4_col6\" class=\"data row4 col6\" >50+ ratings</td>\n",
       "      <td id=\"T_42b0a_row4_col7\" class=\"data row4 col7\" >300.000000</td>\n",
       "    </tr>\n",
       "  </tbody>\n",
       "</table>\n"
      ],
      "text/plain": [
       "<pandas.io.formats.style.Styler at 0x7fdea4015a10>"
      ]
     },
     "metadata": {},
     "output_type": "display_data"
    }
   ],
   "source": [
    "# drop NA in cost_val column\n",
    "rest_df = rest_df.dropna(subset=['cost_val'])\n",
    "display(apply_common_styling(rest_df.round(2).head()))"
   ]
  },
  {
   "cell_type": "markdown",
   "id": "f211b003",
   "metadata": {},
   "source": [
    "<a id = \"q1\"></a>\n",
    "## Question 1\n",
    "How many cities (including subregions) where Swiggy is having its restaurants listed?\n",
    "\n",
    "Assumptions: This count would not include cities/sub-regions where there are no restaurants listed"
   ]
  },
  {
   "cell_type": "code",
   "execution_count": 6,
   "id": "678deebf",
   "metadata": {},
   "outputs": [
    {
     "data": {
      "text/markdown": [
       "**Total no of cities (including subregions) where Swiggy is having its restaurants listed:**                     863"
      ],
      "text/plain": [
       "<IPython.core.display.Markdown object>"
      ]
     },
     "metadata": {},
     "output_type": "display_data"
    }
   ],
   "source": [
    "cities = set(rest_df.city)\n",
    "sub_regions = set(rest_df['sub-region'].dropna())\n",
    "total_cities = len(cities) + len(sub_regions)\n",
    "\n",
    "markdown_content = f\"**Total no of cities (including subregions) where Swiggy is having its restaurants listed:** \\\n",
    "                    {total_cities}\"\n",
    "display(Markdown(markdown_content))"
   ]
  },
  {
   "cell_type": "markdown",
   "id": "65eb759c",
   "metadata": {},
   "source": [
    "<a id = \"q2\"></a>\n",
    "## Question 2\n",
    "How many cities (don't include subregions) where Swiggy is having their restaurants listed?"
   ]
  },
  {
   "cell_type": "code",
   "execution_count": 7,
   "id": "487808a9",
   "metadata": {},
   "outputs": [
    {
     "data": {
      "text/markdown": [
       "**No of cities with restaurants listed:** 556"
      ],
      "text/plain": [
       "<IPython.core.display.Markdown object>"
      ]
     },
     "metadata": {},
     "output_type": "display_data"
    }
   ],
   "source": [
    "markdown_content = f\"**No of cities with restaurants listed:** {len(set(rest_df.city.dropna()))}\"\n",
    "display(Markdown(markdown_content))"
   ]
  },
  {
   "cell_type": "markdown",
   "id": "6e1bab1e",
   "metadata": {},
   "source": [
    "<a id = \"q3\"></a>\n",
    "## Question 3\n",
    "The Subregion of Delhi with the maximum number of restaurants listed on Swiggy?"
   ]
  },
  {
   "cell_type": "code",
   "execution_count": 8,
   "id": "93eb0f5b",
   "metadata": {},
   "outputs": [
    {
     "data": {
      "text/markdown": [
       "**Delhi Sub-Region(max restaurants):** Indirapuram"
      ],
      "text/plain": [
       "<IPython.core.display.Markdown object>"
      ]
     },
     "metadata": {},
     "output_type": "display_data"
    }
   ],
   "source": [
    "delhi_df = rest_df[rest_df.city == 'Delhi']\n",
    "delhi_df = delhi_df.groupby(['city', 'sub-region']).agg(restaurant_count=('restaurant', 'count')).reset_index()\n",
    "delhi_df.sort_values(by = 'restaurant_count', ascending = False, inplace = True)\n",
    "\n",
    "markdown_content = f\"**Delhi Sub-Region(max restaurants):** {delhi_df['sub-region'].head(1).values[0]}\"\n",
    "display(Markdown(markdown_content))"
   ]
  },
  {
   "cell_type": "markdown",
   "id": "bbba5ac0",
   "metadata": {},
   "source": [
    "<a id = \"q4\"></a>\n",
    "## Question 4\n",
    "Name the top 5 Most Expensive Cities in the Datasets.  \n",
    "\n",
    "For this business question, I have included only cities that have atleast the average no of restaurants by city to ensure an un-skewed distribution"
   ]
  },
  {
   "cell_type": "code",
   "execution_count": 9,
   "id": "0aff8007",
   "metadata": {},
   "outputs": [
    {
     "data": {
      "image/png": "[encoded data removed]",
      "text/plain": [
       "<Figure size 500x400 with 1 Axes>"
      ]
     },
     "metadata": {},
     "output_type": "display_data"
    }
   ],
   "source": [
    "def normalize_column(column):\n",
    "    min_val = column.min()\n",
    "    max_val = column.max()\n",
    "    return (column - min_val) / (max_val - min_val)\n",
    "\n",
    "rest_df4 = rest_df.groupby(['city']).agg(\n",
    "        mean_cost=('cost_val', 'mean'),\n",
    "        restaurant_count=('cost_val', 'count')\n",
    "    ).reset_index()\n",
    "\n",
    "expensive_cities = rest_df4.copy()\n",
    "expensive_cities['mean_cost_N'] = normalize_column(expensive_cities['mean_cost'])\n",
    "expensive_cities['restaurant_count_N'] = normalize_column(expensive_cities['restaurant_count'])\n",
    "\n",
    "expensive_cities = expensive_cities[expensive_cities.restaurant_count >= expensive_cities.restaurant_count.mean()].sort_values(\\\n",
    "        by = ['mean_cost_N', 'restaurant_count_N'], ascending=False).head(5)\n",
    "\n",
    "plt.figure(figsize=(5, 4))\n",
    "plt.bar(expensive_cities['city'].head(5), expensive_cities['mean_cost'].head(5), color='skyblue')\n",
    "plt.title('Top 5 Expensive Cities')\n",
    "plt.xlabel('City')\n",
    "plt.ylabel('Average Cost (in Rupees)')\n",
    "plt.xticks(rotation=45) \n",
    "plt.tight_layout()\n",
    "plt.show()"
   ]
  },
  {
   "cell_type": "markdown",
   "id": "8ffbb935",
   "metadata": {},
   "source": [
    "<a id = \"q5\"></a>\n",
    "## Question 5\n",
    "\n",
    "List out the top 5 Restaurants with Maximum & minimum ratings throughout the dataset.\n",
    "\n",
    "many restaurants with same ratings, create a weighted score to break the tie"
   ]
  },
  {
   "cell_type": "code",
   "execution_count": 10,
   "id": "26a0d438",
   "metadata": {},
   "outputs": [
    {
     "data": {
      "text/markdown": [
       "**Top 5 - Max Ratings:**"
      ],
      "text/plain": [
       "<IPython.core.display.Markdown object>"
      ]
     },
     "metadata": {},
     "output_type": "display_data"
    },
    {
     "data": {
      "text/html": [
       "<style type=\"text/css\">\n",
       "#T_b829e_ thead {\n",
       "  background-color: skyblue;\n",
       "  font-size: 14px;\n",
       "  font-weight: bold;\n",
       "}\n",
       "#T_b829e_ tbody {\n",
       "  font-size: 12px;\n",
       "}\n",
       "#T_b829e_ th {\n",
       "  text-align: center;\n",
       "  font-size: 12px;\n",
       "}\n",
       "#T_b829e_ td {\n",
       "  text-align: left;\n",
       "}\n",
       "#T_b829e_ .row_heading {\n",
       "  display: none;\n",
       "}\n",
       "#T_b829e_ .blank.level0 {\n",
       "  display: none;\n",
       "}\n",
       "</style>\n",
       "<table id=\"T_b829e_\">\n",
       "  <thead>\n",
       "    <tr>\n",
       "      <th class=\"blank level0\" >&nbsp;</th>\n",
       "      <th class=\"col_heading level0 col0\" >restaurant</th>\n",
       "      <th class=\"col_heading level0 col1\" >rating</th>\n",
       "      <th class=\"col_heading level0 col2\" >rating_count_val</th>\n",
       "    </tr>\n",
       "  </thead>\n",
       "  <tbody>\n",
       "    <tr>\n",
       "      <th id=\"T_b829e_level0_row0\" class=\"row_heading level0 row0\" >15399</th>\n",
       "      <td id=\"T_b829e_row0_col0\" class=\"data row0 col0\" >SHRI KRISHNA FOOD ZONE</td>\n",
       "      <td id=\"T_b829e_row0_col1\" class=\"data row0 col1\" >5.000000</td>\n",
       "      <td id=\"T_b829e_row0_col2\" class=\"data row0 col2\" >100</td>\n",
       "    </tr>\n",
       "    <tr>\n",
       "      <th id=\"T_b829e_level0_row1\" class=\"row_heading level0 row1\" >80023</th>\n",
       "      <td id=\"T_b829e_row1_col0\" class=\"data row1 col0\" >Tony Bakery</td>\n",
       "      <td id=\"T_b829e_row1_col1\" class=\"data row1 col1\" >5.000000</td>\n",
       "      <td id=\"T_b829e_row1_col2\" class=\"data row1 col2\" >100</td>\n",
       "    </tr>\n",
       "    <tr>\n",
       "      <th id=\"T_b829e_level0_row2\" class=\"row_heading level0 row2\" >31818</th>\n",
       "      <td id=\"T_b829e_row2_col0\" class=\"data row2 col0\" >SHREE SAMARTHA CHAPATIS</td>\n",
       "      <td id=\"T_b829e_row2_col1\" class=\"data row2 col1\" >5.000000</td>\n",
       "      <td id=\"T_b829e_row2_col2\" class=\"data row2 col2\" >50</td>\n",
       "    </tr>\n",
       "    <tr>\n",
       "      <th id=\"T_b829e_level0_row3\" class=\"row_heading level0 row3\" >115465</th>\n",
       "      <td id=\"T_b829e_row3_col0\" class=\"data row3 col0\" >Bento It</td>\n",
       "      <td id=\"T_b829e_row3_col1\" class=\"data row3 col1\" >5.000000</td>\n",
       "      <td id=\"T_b829e_row3_col2\" class=\"data row3 col2\" >50</td>\n",
       "    </tr>\n",
       "    <tr>\n",
       "      <th id=\"T_b829e_level0_row4\" class=\"row_heading level0 row4\" >139185</th>\n",
       "      <td id=\"T_b829e_row4_col0\" class=\"data row4 col0\" >Gelato Vinto</td>\n",
       "      <td id=\"T_b829e_row4_col1\" class=\"data row4 col1\" >5.000000</td>\n",
       "      <td id=\"T_b829e_row4_col2\" class=\"data row4 col2\" >50</td>\n",
       "    </tr>\n",
       "  </tbody>\n",
       "</table>\n"
      ],
      "text/plain": [
       "<pandas.io.formats.style.Styler at 0x7fde5e760b10>"
      ]
     },
     "metadata": {},
     "output_type": "display_data"
    },
    {
     "data": {
      "text/markdown": [
       "**Top 5 - Min Ratings:**"
      ],
      "text/plain": [
       "<IPython.core.display.Markdown object>"
      ]
     },
     "metadata": {},
     "output_type": "display_data"
    },
    {
     "data": {
      "text/html": [
       "<style type=\"text/css\">\n",
       "#T_180fa_ thead {\n",
       "  background-color: skyblue;\n",
       "  font-size: 14px;\n",
       "  font-weight: bold;\n",
       "}\n",
       "#T_180fa_ tbody {\n",
       "  font-size: 12px;\n",
       "}\n",
       "#T_180fa_ th {\n",
       "  text-align: center;\n",
       "  font-size: 12px;\n",
       "}\n",
       "#T_180fa_ td {\n",
       "  text-align: left;\n",
       "}\n",
       "#T_180fa_ .row_heading {\n",
       "  display: none;\n",
       "}\n",
       "#T_180fa_ .blank.level0 {\n",
       "  display: none;\n",
       "}\n",
       "</style>\n",
       "<table id=\"T_180fa_\">\n",
       "  <thead>\n",
       "    <tr>\n",
       "      <th class=\"blank level0\" >&nbsp;</th>\n",
       "      <th class=\"col_heading level0 col0\" >restaurant</th>\n",
       "      <th class=\"col_heading level0 col1\" >rating</th>\n",
       "      <th class=\"col_heading level0 col2\" >rating_count_val</th>\n",
       "    </tr>\n",
       "  </thead>\n",
       "  <tbody>\n",
       "    <tr>\n",
       "      <th id=\"T_180fa_level0_row0\" class=\"row_heading level0 row0\" >67713</th>\n",
       "      <td id=\"T_180fa_row0_col0\" class=\"data row0 col0\" >Ice Cream and Shakes Co</td>\n",
       "      <td id=\"T_180fa_row0_col1\" class=\"data row0 col1\" >1.000000</td>\n",
       "      <td id=\"T_180fa_row0_col2\" class=\"data row0 col2\" >20</td>\n",
       "    </tr>\n",
       "    <tr>\n",
       "      <th id=\"T_180fa_level0_row1\" class=\"row_heading level0 row1\" >157849</th>\n",
       "      <td id=\"T_180fa_row1_col0\" class=\"data row1 col0\" >Persian Delight</td>\n",
       "      <td id=\"T_180fa_row1_col1\" class=\"data row1 col1\" >1.100000</td>\n",
       "      <td id=\"T_180fa_row1_col2\" class=\"data row1 col2\" >20</td>\n",
       "    </tr>\n",
       "    <tr>\n",
       "      <th id=\"T_180fa_level0_row2\" class=\"row_heading level0 row2\" >55694</th>\n",
       "      <td id=\"T_180fa_row2_col0\" class=\"data row2 col0\" >Champaran Mutton Hundy & Biryani</td>\n",
       "      <td id=\"T_180fa_row2_col1\" class=\"data row2 col1\" >1.200000</td>\n",
       "      <td id=\"T_180fa_row2_col2\" class=\"data row2 col2\" >20</td>\n",
       "    </tr>\n",
       "    <tr>\n",
       "      <th id=\"T_180fa_level0_row3\" class=\"row_heading level0 row3\" >76924</th>\n",
       "      <td id=\"T_180fa_row3_col0\" class=\"data row3 col0\" >The Hyderabadi Biryani House</td>\n",
       "      <td id=\"T_180fa_row3_col1\" class=\"data row3 col1\" >1.200000</td>\n",
       "      <td id=\"T_180fa_row3_col2\" class=\"data row3 col2\" >20</td>\n",
       "    </tr>\n",
       "    <tr>\n",
       "      <th id=\"T_180fa_level0_row4\" class=\"row_heading level0 row4\" >137944</th>\n",
       "      <td id=\"T_180fa_row4_col0\" class=\"data row4 col0\" >THE TARI STORY</td>\n",
       "      <td id=\"T_180fa_row4_col1\" class=\"data row4 col1\" >1.200000</td>\n",
       "      <td id=\"T_180fa_row4_col2\" class=\"data row4 col2\" >20</td>\n",
       "    </tr>\n",
       "  </tbody>\n",
       "</table>\n"
      ],
      "text/plain": [
       "<pandas.io.formats.style.Styler at 0x7fde5e760290>"
      ]
     },
     "metadata": {},
     "output_type": "display_data"
    }
   ],
   "source": [
    "warnings.filterwarnings(\"ignore\", category=pd.core.common.SettingWithCopyWarning)\n",
    "def normalize_column(column):\n",
    "    min_val = column.min()\n",
    "    max_val = column.max()\n",
    "    return (column - min_val) / (max_val - min_val)\n",
    "\n",
    "# filtering out only restaurants with enough rating\n",
    "# if required skip the next step\n",
    "# assumption is that the business question is to understand which restaurants have the lowest user ratings. \n",
    "# hence restaurants that don't have any ratings have been disconsidered\n",
    "rest_df2 = rest_df[rest_df.rating_count != 'not enough ratings']\n",
    "rest_df2['rating_count_val'] = rest_df2.rating_count.apply(lambda x: x.split(\"+\")[0])\n",
    "rest_df2 = rest_df2[rest_df2.rating_count_val != 'NA']\n",
    "\n",
    "map_rating = {'1K': 1000, '5K': 5000, '10K': 10000}\n",
    "rest_df2.rating_count_val = rest_df2.rating_count_val.apply(lambda x: map_rating[x] if x in map_rating.keys() else int(x))\n",
    "rest_df2['rating_count_val'] = rest_df2['rating_count_val'].astype('int')\n",
    "rest_df2['rating'] = rest_df2['rating'].astype('float')\n",
    "\n",
    "# Calculate the weighted score using a weighted average\n",
    "rest_df2['rating_norm'] = normalize_column(rest_df2['rating'])\n",
    "rest_df2['rating_count_val_norm'] = normalize_column(rest_df2['rating_count_val'])\n",
    "\n",
    "top_5_max_ratings = rest_df2.sort_values(by=['rating', 'rating_count_val'], ascending=False).head(5)[['restaurant', \n",
    "                                                                                                     'rating',\n",
    "                                                                                                     'rating_count_val']]\n",
    "\n",
    "top_5_min_ratings = rest_df2.sort_values(by=['rating', 'rating_count_val'], ascending=True).head(5)[['restaurant', \n",
    "                                                                                                     'rating',\n",
    "                                                                                                     'rating_count_val']]\n",
    "\n",
    "markdown_content = '**Top 5 - Max Ratings:**'\n",
    "display(Markdown(markdown_content))\n",
    "display(apply_common_styling(top_5_max_ratings.round(2).head()))\n",
    "markdown_content = '**Top 5 - Min Ratings:**'\n",
    "display(Markdown(markdown_content))\n",
    "display(apply_common_styling(top_5_min_ratings.round(2).head(5)))\n",
    "# # Create subplots for the two horizontal bar charts\n",
    "# fig, (ax1, ax2) = plt.subplots(1, 2, figsize=(12, 6))\n",
    "\n",
    "# # Horizontal bar plot for Top 5 Restaurants with Maximum Ratings\n",
    "# ax1.barh(top_5_max_ratings['restaurant'], top_5_max_ratings['rating_count_val'], color='skyblue')\n",
    "# ax1.set_title('Top 5 Restaurants with Maximum Ratings')\n",
    "# ax1.set_xlabel('Rating')\n",
    "# ax1.set_ylabel('Restaurant')\n",
    "# ax1.invert_yaxis()  # Invert y-axis to have the highest rated restaurant at the top\n",
    "\n",
    "# # Horizontal bar plot for Top 5 Restaurants with Minimum Ratings\n",
    "# ax2.barh(top_5_min_ratings['restaurant'], top_5_min_ratings['rating_count_val'], color='lightcoral')\n",
    "# ax2.set_title('Top 5 Restaurants with Minimum Ratings')\n",
    "# ax2.set_xlabel('Rating')\n",
    "# ax2.set_ylabel('Restaurant')\n",
    "# ax2.invert_yaxis()  # Invert y-axis to have the lowest rated restaurant at the top\n",
    "\n",
    "# # Adjust layout for better spacing between subplots\n",
    "# plt.tight_layout()\n",
    "\n",
    "# # Display the plots\n",
    "# plt.show()\n",
    "warnings.resetwarnings()"
   ]
  },
  {
   "cell_type": "markdown",
   "id": "963259d2",
   "metadata": {},
   "source": [
    "<a id = \"q6\"></a>\n",
    "## Question 6\n",
    "\n",
    "Name of top 5 cities with the highest number of restaurants listed."
   ]
  },
  {
   "cell_type": "code",
   "execution_count": 11,
   "id": "26978773",
   "metadata": {},
   "outputs": [
    {
     "data": {
      "image/png": "[encoded data removed]",
      "text/plain": [
       "<Figure size 500x400 with 1 Axes>"
      ]
     },
     "metadata": {},
     "output_type": "display_data"
    }
   ],
   "source": [
    "city_df = rest_df4.sort_values(by='restaurant_count', ascending = False).reset_index(drop = True)\n",
    "plt.figure(figsize=(5, 4))\n",
    "plt.bar(city_df['city'].head(5), city_df['restaurant_count'].head(5), color='skyblue')\n",
    "plt.title('Top 5 Cities with the Highest Restaurant Counts')\n",
    "plt.xlabel('City')\n",
    "plt.ylabel('Restaurant Count')\n",
    "plt.xticks(rotation=45) \n",
    "plt.tight_layout()\n",
    "plt.show()"
   ]
  },
  {
   "cell_type": "markdown",
   "id": "5a49d3a9",
   "metadata": {},
   "source": [
    "<a id = \"q7\"></a>\n",
    "## Question 7\n",
    "\n",
    "Top 10 cities as per the number of restaurants listed?"
   ]
  },
  {
   "cell_type": "code",
   "execution_count": 12,
   "id": "45411cdd",
   "metadata": {},
   "outputs": [
    {
     "data": {
      "image/png": "[encoded data removed]",
      "text/plain": [
       "<Figure size 500x400 with 1 Axes>"
      ]
     },
     "metadata": {},
     "output_type": "display_data"
    }
   ],
   "source": [
    "city_df = rest_df4.sort_values(by='restaurant_count', ascending = False).reset_index(drop = True)\n",
    "plt.figure(figsize=(5, 4))\n",
    "plt.bar(city_df['city'].head(10), city_df['restaurant_count'].head(10), color='skyblue')\n",
    "plt.title('Top 5 Cities with the Highest Restaurant Counts')\n",
    "plt.xlabel('City')\n",
    "plt.ylabel('Restaurant Count')\n",
    "plt.xticks(rotation=45) \n",
    "plt.tight_layout()\n",
    "plt.show()"
   ]
  },
  {
   "cell_type": "markdown",
   "id": "f049f749",
   "metadata": {},
   "source": [
    "<a id = \"q8\"></a>\n",
    "## Question 8\n",
    "Name the top 5 Most Popular Restaurants in Pune."
   ]
  },
  {
   "cell_type": "code",
   "execution_count": 13,
   "id": "f8d501a4",
   "metadata": {},
   "outputs": [
    {
     "data": {
      "text/markdown": [
       "**Top 5 by Popularity in Pune:**"
      ],
      "text/plain": [
       "<IPython.core.display.Markdown object>"
      ]
     },
     "metadata": {},
     "output_type": "display_data"
    },
    {
     "data": {
      "text/html": [
       "<style type=\"text/css\">\n",
       "#T_3860e_ thead {\n",
       "  background-color: skyblue;\n",
       "  font-size: 14px;\n",
       "  font-weight: bold;\n",
       "}\n",
       "#T_3860e_ tbody {\n",
       "  font-size: 12px;\n",
       "}\n",
       "#T_3860e_ th {\n",
       "  text-align: center;\n",
       "  font-size: 12px;\n",
       "}\n",
       "#T_3860e_ td {\n",
       "  text-align: left;\n",
       "}\n",
       "#T_3860e_ .row_heading {\n",
       "  display: none;\n",
       "}\n",
       "#T_3860e_ .blank.level0 {\n",
       "  display: none;\n",
       "}\n",
       "</style>\n",
       "<table id=\"T_3860e_\">\n",
       "  <thead>\n",
       "    <tr>\n",
       "      <th class=\"blank level0\" >&nbsp;</th>\n",
       "      <th class=\"col_heading level0 col0\" >restaurant</th>\n",
       "      <th class=\"col_heading level0 col1\" >rating</th>\n",
       "      <th class=\"col_heading level0 col2\" >rating_count</th>\n",
       "      <th class=\"col_heading level0 col3\" >popularity_score</th>\n",
       "    </tr>\n",
       "  </thead>\n",
       "  <tbody>\n",
       "    <tr>\n",
       "      <th id=\"T_3860e_level0_row0\" class=\"row_heading level0 row0\" >130128</th>\n",
       "      <td id=\"T_3860e_row0_col0\" class=\"data row0 col0\" >Smoodies & Juices: Your Fruitfully</td>\n",
       "      <td id=\"T_3860e_row0_col1\" class=\"data row0 col1\" >5.000000</td>\n",
       "      <td id=\"T_3860e_row0_col2\" class=\"data row0 col2\" >20+ ratings</td>\n",
       "      <td id=\"T_3860e_row0_col3\" class=\"data row0 col3\" >0.800000</td>\n",
       "    </tr>\n",
       "    <tr>\n",
       "      <th id=\"T_3860e_level0_row1\" class=\"row_heading level0 row1\" >129988</th>\n",
       "      <td id=\"T_3860e_row1_col0\" class=\"data row1 col0\" >Paratha Box by EatFit</td>\n",
       "      <td id=\"T_3860e_row1_col1\" class=\"data row1 col1\" >5.000000</td>\n",
       "      <td id=\"T_3860e_row1_col2\" class=\"data row1 col2\" >20+ ratings</td>\n",
       "      <td id=\"T_3860e_row1_col3\" class=\"data row1 col3\" >0.800000</td>\n",
       "    </tr>\n",
       "    <tr>\n",
       "      <th id=\"T_3860e_level0_row2\" class=\"row_heading level0 row2\" >131339</th>\n",
       "      <td id=\"T_3860e_row2_col0\" class=\"data row2 col0\" >Miss Gelato</td>\n",
       "      <td id=\"T_3860e_row2_col1\" class=\"data row2 col1\" >5.000000</td>\n",
       "      <td id=\"T_3860e_row2_col2\" class=\"data row2 col2\" >20+ ratings</td>\n",
       "      <td id=\"T_3860e_row2_col3\" class=\"data row2 col3\" >0.800000</td>\n",
       "    </tr>\n",
       "    <tr>\n",
       "      <th id=\"T_3860e_level0_row3\" class=\"row_heading level0 row3\" >130238</th>\n",
       "      <td id=\"T_3860e_row3_col0\" class=\"data row3 col0\" >HRX by Eatfit</td>\n",
       "      <td id=\"T_3860e_row3_col1\" class=\"data row3 col1\" >5.000000</td>\n",
       "      <td id=\"T_3860e_row3_col2\" class=\"data row3 col2\" >20+ ratings</td>\n",
       "      <td id=\"T_3860e_row3_col3\" class=\"data row3 col3\" >0.800000</td>\n",
       "    </tr>\n",
       "    <tr>\n",
       "      <th id=\"T_3860e_level0_row4\" class=\"row_heading level0 row4\" >131398</th>\n",
       "      <td id=\"T_3860e_row4_col0\" class=\"data row4 col0\" >Kushta by Semporo</td>\n",
       "      <td id=\"T_3860e_row4_col1\" class=\"data row4 col1\" >5.000000</td>\n",
       "      <td id=\"T_3860e_row4_col2\" class=\"data row4 col2\" >20+ ratings</td>\n",
       "      <td id=\"T_3860e_row4_col3\" class=\"data row4 col3\" >0.800000</td>\n",
       "    </tr>\n",
       "  </tbody>\n",
       "</table>\n"
      ],
      "text/plain": [
       "<pandas.io.formats.style.Styler at 0x7fdf7d178190>"
      ]
     },
     "metadata": {},
     "output_type": "display_data"
    }
   ],
   "source": [
    "rest_df2['popularity_score'] = (rest_df2['rating_norm'] * 0.8) + (rest_df2['rating_count_val_norm'] * 0.2)\n",
    "pune_popular = rest_df2[rest_df2.city == 'Pune']\n",
    "pune_popular = pune_popular.sort_values(by = ['popularity_score'], ascending = False).head(5)\\\n",
    "            [['restaurant', 'rating', 'rating_count','popularity_score']]\n",
    "\n",
    "markdown_content = '**Top 5 by Popularity in Pune:**'\n",
    "display(Markdown(markdown_content))\n",
    "display(apply_common_styling(pune_popular.round(2)))"
   ]
  },
  {
   "cell_type": "markdown",
   "id": "8cea7496",
   "metadata": {},
   "source": [
    "<a id = \"q9\"></a>\n",
    "## Question 9\n",
    "Which SubRegion in Delhi is having the least expensive restaurant in terms of cost?"
   ]
  },
  {
   "cell_type": "code",
   "execution_count": 14,
   "id": "a4907ca3",
   "metadata": {},
   "outputs": [
    {
     "data": {
      "text/markdown": [
       "**Delhi Sub-Region (least expensive restaurants):** GTB Nagar"
      ],
      "text/plain": [
       "<IPython.core.display.Markdown object>"
      ]
     },
     "metadata": {},
     "output_type": "display_data"
    }
   ],
   "source": [
    "rest_df9 = rest_df2[rest_df2.city == 'Delhi']\n",
    "# rest_df9.sort_values(by = 'cost_val').head(1)[['city', 'sub-region', 'cost_val']]\n",
    "markdown_content = f\"**Delhi Sub-Region (least expensive restaurants):** {rest_df9.sort_values(by = 'cost_val').head(1)['sub-region'].values[0]}\"\n",
    "display(Markdown(markdown_content))"
   ]
  },
  {
   "cell_type": "markdown",
   "id": "28122996",
   "metadata": {},
   "source": [
    "<a id = \"q10\"></a>\n",
    "## Question 10\n",
    "Top 5 most popular restaurant chains in India?"
   ]
  },
  {
   "cell_type": "code",
   "execution_count": 15,
   "id": "b6aad131",
   "metadata": {},
   "outputs": [
    {
     "data": {
      "text/markdown": [
       "**Top 5 by Popularity in India:**"
      ],
      "text/plain": [
       "<IPython.core.display.Markdown object>"
      ]
     },
     "metadata": {},
     "output_type": "display_data"
    },
    {
     "data": {
      "text/html": [
       "<style type=\"text/css\">\n",
       "#T_0c9d1_ thead {\n",
       "  background-color: skyblue;\n",
       "  font-size: 14px;\n",
       "  font-weight: bold;\n",
       "}\n",
       "#T_0c9d1_ tbody {\n",
       "  font-size: 12px;\n",
       "}\n",
       "#T_0c9d1_ th {\n",
       "  text-align: center;\n",
       "  font-size: 12px;\n",
       "}\n",
       "#T_0c9d1_ td {\n",
       "  text-align: left;\n",
       "}\n",
       "#T_0c9d1_ .row_heading {\n",
       "  display: none;\n",
       "}\n",
       "#T_0c9d1_ .blank.level0 {\n",
       "  display: none;\n",
       "}\n",
       "</style>\n",
       "<table id=\"T_0c9d1_\">\n",
       "  <thead>\n",
       "    <tr>\n",
       "      <th class=\"blank level0\" >&nbsp;</th>\n",
       "      <th class=\"col_heading level0 col0\" >restaurant</th>\n",
       "      <th class=\"col_heading level0 col1\" >rating</th>\n",
       "      <th class=\"col_heading level0 col2\" >rating_count_val</th>\n",
       "      <th class=\"col_heading level0 col3\" >popularity_score</th>\n",
       "    </tr>\n",
       "  </thead>\n",
       "  <tbody>\n",
       "    <tr>\n",
       "      <th id=\"T_0c9d1_level0_row0\" class=\"row_heading level0 row0\" >22703</th>\n",
       "      <td id=\"T_0c9d1_row0_col0\" class=\"data row0 col0\" >McDonald's</td>\n",
       "      <td id=\"T_0c9d1_row0_col1\" class=\"data row0 col1\" >4.190000</td>\n",
       "      <td id=\"T_0c9d1_row0_col2\" class=\"data row0 col2\" >133950</td>\n",
       "      <td id=\"T_0c9d1_row0_col3\" class=\"data row0 col3\" >0.860000</td>\n",
       "    </tr>\n",
       "    <tr>\n",
       "      <th id=\"T_0c9d1_level0_row1\" class=\"row_heading level0 row1\" >5916</th>\n",
       "      <td id=\"T_0c9d1_row1_col0\" class=\"data row1 col0\" >Burger King</td>\n",
       "      <td id=\"T_0c9d1_row1_col1\" class=\"data row1 col1\" >4.120000</td>\n",
       "      <td id=\"T_0c9d1_row1_col2\" class=\"data row1 col2\" >118950</td>\n",
       "      <td id=\"T_0c9d1_row1_col3\" class=\"data row1 col3\" >0.810000</td>\n",
       "    </tr>\n",
       "    <tr>\n",
       "      <th id=\"T_0c9d1_level0_row2\" class=\"row_heading level0 row2\" >18204</th>\n",
       "      <td id=\"T_0c9d1_row2_col0\" class=\"data row2 col0\" >KFC</td>\n",
       "      <td id=\"T_0c9d1_row2_col1\" class=\"data row2 col1\" >3.940000</td>\n",
       "      <td id=\"T_0c9d1_row2_col2\" class=\"data row2 col2\" >122040</td>\n",
       "      <td id=\"T_0c9d1_row2_col3\" class=\"data row2 col3\" >0.790000</td>\n",
       "    </tr>\n",
       "    <tr>\n",
       "      <th id=\"T_0c9d1_level0_row3\" class=\"row_heading level0 row3\" >24300</th>\n",
       "      <td id=\"T_0c9d1_row3_col0\" class=\"data row3 col0\" >NIC Natural Ice Creams</td>\n",
       "      <td id=\"T_0c9d1_row3_col1\" class=\"data row3 col1\" >4.510000</td>\n",
       "      <td id=\"T_0c9d1_row3_col2\" class=\"data row3 col2\" >72070</td>\n",
       "      <td id=\"T_0c9d1_row3_col3\" class=\"data row3 col3\" >0.780000</td>\n",
       "    </tr>\n",
       "    <tr>\n",
       "      <th id=\"T_0c9d1_level0_row4\" class=\"row_heading level0 row4\" >458</th>\n",
       "      <td id=\"T_0c9d1_row4_col0\" class=\"data row4 col0\" >A2B Veg</td>\n",
       "      <td id=\"T_0c9d1_row4_col1\" class=\"data row4 col1\" >4.230000</td>\n",
       "      <td id=\"T_0c9d1_row4_col2\" class=\"data row4 col2\" >61900</td>\n",
       "      <td id=\"T_0c9d1_row4_col3\" class=\"data row4 col3\" >0.700000</td>\n",
       "    </tr>\n",
       "  </tbody>\n",
       "</table>\n"
      ],
      "text/plain": [
       "<pandas.io.formats.style.Styler at 0x7fdf786d7c90>"
      ]
     },
     "metadata": {},
     "output_type": "display_data"
    }
   ],
   "source": [
    "rest_df10 = rest_df2.groupby(['restaurant']).agg({\n",
    "    'rating': 'mean',\n",
    "    'rating_count_val': 'sum'  # sum as we assume this field to give us information about the # of people visiting\n",
    "}).reset_index()\n",
    "\n",
    "rest_df10['rating_norm'] = normalize_column(rest_df10['rating'])\n",
    "rest_df10['rating_count_val_norm'] = normalize_column(rest_df10['rating_count_val'])\n",
    "rest_df10['popularity_score'] = (rest_df10['rating_norm'] * 0.7) + (rest_df10['rating_count_val_norm'] * 0.3)\n",
    "\n",
    "rest_df10 = rest_df10.sort_values(by = ['popularity_score'], ascending = False).head(5)\\\n",
    "    [['restaurant', 'rating', 'rating_count_val','popularity_score']]\n",
    "\n",
    "markdown_content = '**Top 5 by Popularity in India:**'\n",
    "display(Markdown(markdown_content))\n",
    "display(apply_common_styling(rest_df10.round(2)))"
   ]
  },
  {
   "cell_type": "markdown",
   "id": "39fa6ea2",
   "metadata": {},
   "source": [
    "<a id = \"q11\"></a>\n",
    "## Question 11\n",
    "\n",
    "Which restaurant in Pune has the most number of people visiting?\n",
    "(to break the tie, popularity score is used)"
   ]
  },
  {
   "cell_type": "code",
   "execution_count": 16,
   "id": "9984e91d",
   "metadata": {},
   "outputs": [
    {
     "data": {
      "text/markdown": [
       "**Pune (most visited restaurant):** Kalika Dairy & Sweets"
      ],
      "text/plain": [
       "<IPython.core.display.Markdown object>"
      ]
     },
     "metadata": {},
     "output_type": "display_data"
    }
   ],
   "source": [
    "rest_df11 = rest_df2[rest_df2.city == 'Pune']\n",
    "rest_df11 = rest_df11.sort_values(by = ['rating_count_val', 'rating', 'cost_val'], ascending = [False, False, True]).head(1)\n",
    "markdown_content = f\"**Pune (most visited restaurant):** {rest_df11['restaurant'].values[0]}\"\n",
    "display(Markdown(markdown_content))"
   ]
  },
  {
   "cell_type": "markdown",
   "id": "47c04822",
   "metadata": {},
   "source": [
    "<a id = \"q12\"></a>\n",
    "## Question 12\n",
    "Top 10 Restaurants with Maximum Ratings in Banglore\n",
    "\n",
    " - When we say \"maximum ratings\", we should have enough ratings as well. \n",
    " - Hence let's filter this df before running the analysis\n",
    " - This filter could be based on a condition for rating_count"
   ]
  },
  {
   "cell_type": "code",
   "execution_count": 17,
   "id": "d90688c0",
   "metadata": {},
   "outputs": [
    {
     "data": {
      "text/markdown": [
       "**Top 10 Restaurants with Maximum Ratings in Banglore:**"
      ],
      "text/plain": [
       "<IPython.core.display.Markdown object>"
      ]
     },
     "metadata": {},
     "output_type": "display_data"
    },
    {
     "data": {
      "text/html": [
       "<style type=\"text/css\">\n",
       "#T_8a14b_ thead {\n",
       "  background-color: skyblue;\n",
       "  font-size: 14px;\n",
       "  font-weight: bold;\n",
       "}\n",
       "#T_8a14b_ tbody {\n",
       "  font-size: 12px;\n",
       "}\n",
       "#T_8a14b_ th {\n",
       "  text-align: center;\n",
       "  font-size: 12px;\n",
       "}\n",
       "#T_8a14b_ td {\n",
       "  text-align: left;\n",
       "}\n",
       "#T_8a14b_ .row_heading {\n",
       "  display: none;\n",
       "}\n",
       "#T_8a14b_ .blank.level0 {\n",
       "  display: none;\n",
       "}\n",
       "</style>\n",
       "<table id=\"T_8a14b_\">\n",
       "  <thead>\n",
       "    <tr>\n",
       "      <th class=\"blank level0\" >&nbsp;</th>\n",
       "      <th class=\"col_heading level0 col0\" >city</th>\n",
       "      <th class=\"col_heading level0 col1\" >sub-region</th>\n",
       "      <th class=\"col_heading level0 col2\" >restaurant</th>\n",
       "      <th class=\"col_heading level0 col3\" >rating</th>\n",
       "      <th class=\"col_heading level0 col4\" >rating_count_val</th>\n",
       "    </tr>\n",
       "  </thead>\n",
       "  <tbody>\n",
       "    <tr>\n",
       "      <th id=\"T_8a14b_level0_row0\" class=\"row_heading level0 row0\" >151447</th>\n",
       "      <td id=\"T_8a14b_row0_col0\" class=\"data row0 col0\" >Bangalore</td>\n",
       "      <td id=\"T_8a14b_row0_col1\" class=\"data row0 col1\" >Arekere</td>\n",
       "      <td id=\"T_8a14b_row0_col2\" class=\"data row0 col2\" >HUNGER TREATS</td>\n",
       "      <td id=\"T_8a14b_row0_col3\" class=\"data row0 col3\" >5.000000</td>\n",
       "      <td id=\"T_8a14b_row0_col4\" class=\"data row0 col4\" >50</td>\n",
       "    </tr>\n",
       "    <tr>\n",
       "      <th id=\"T_8a14b_level0_row1\" class=\"row_heading level0 row1\" >149059</th>\n",
       "      <td id=\"T_8a14b_row1_col0\" class=\"data row1 col0\" >Bangalore</td>\n",
       "      <td id=\"T_8a14b_row1_col1\" class=\"data row1 col1\" >Koramangala</td>\n",
       "      <td id=\"T_8a14b_row1_col2\" class=\"data row1 col2\" >Creams and Bites</td>\n",
       "      <td id=\"T_8a14b_row1_col3\" class=\"data row1 col3\" >5.000000</td>\n",
       "      <td id=\"T_8a14b_row1_col4\" class=\"data row1 col4\" >20</td>\n",
       "    </tr>\n",
       "    <tr>\n",
       "      <th id=\"T_8a14b_level0_row2\" class=\"row_heading level0 row2\" >149109</th>\n",
       "      <td id=\"T_8a14b_row2_col0\" class=\"data row2 col0\" >Bangalore</td>\n",
       "      <td id=\"T_8a14b_row2_col1\" class=\"data row2 col1\" >Koramangala</td>\n",
       "      <td id=\"T_8a14b_row2_col2\" class=\"data row2 col2\" >Bansal's Thali & Combo Meals</td>\n",
       "      <td id=\"T_8a14b_row2_col3\" class=\"data row2 col3\" >5.000000</td>\n",
       "      <td id=\"T_8a14b_row2_col4\" class=\"data row2 col4\" >20</td>\n",
       "    </tr>\n",
       "    <tr>\n",
       "      <th id=\"T_8a14b_level0_row3\" class=\"row_heading level0 row3\" >149541</th>\n",
       "      <td id=\"T_8a14b_row3_col0\" class=\"data row3 col0\" >Bangalore</td>\n",
       "      <td id=\"T_8a14b_row3_col1\" class=\"data row3 col1\" >Koramangala</td>\n",
       "      <td id=\"T_8a14b_row3_col2\" class=\"data row3 col2\" >GOWHEY- HEALTHY DESSERT COMPANY</td>\n",
       "      <td id=\"T_8a14b_row3_col3\" class=\"data row3 col3\" >5.000000</td>\n",
       "      <td id=\"T_8a14b_row3_col4\" class=\"data row3 col4\" >20</td>\n",
       "    </tr>\n",
       "    <tr>\n",
       "      <th id=\"T_8a14b_level0_row4\" class=\"row_heading level0 row4\" >149991</th>\n",
       "      <td id=\"T_8a14b_row4_col0\" class=\"data row4 col0\" >Bangalore</td>\n",
       "      <td id=\"T_8a14b_row4_col1\" class=\"data row4 col1\" >JP Nagar</td>\n",
       "      <td id=\"T_8a14b_row4_col2\" class=\"data row4 col2\" >JUST CREAMERY - Artisanal Healthy Ice Cream</td>\n",
       "      <td id=\"T_8a14b_row4_col3\" class=\"data row4 col3\" >5.000000</td>\n",
       "      <td id=\"T_8a14b_row4_col4\" class=\"data row4 col4\" >20</td>\n",
       "    </tr>\n",
       "    <tr>\n",
       "      <th id=\"T_8a14b_level0_row5\" class=\"row_heading level0 row5\" >150485</th>\n",
       "      <td id=\"T_8a14b_row5_col0\" class=\"data row5 col0\" >Bangalore</td>\n",
       "      <td id=\"T_8a14b_row5_col1\" class=\"data row5 col1\" >Mahadevpura</td>\n",
       "      <td id=\"T_8a14b_row5_col2\" class=\"data row5 col2\" >The Chinese Connection</td>\n",
       "      <td id=\"T_8a14b_row5_col3\" class=\"data row5 col3\" >5.000000</td>\n",
       "      <td id=\"T_8a14b_row5_col4\" class=\"data row5 col4\" >20</td>\n",
       "    </tr>\n",
       "    <tr>\n",
       "      <th id=\"T_8a14b_level0_row6\" class=\"row_heading level0 row6\" >151198</th>\n",
       "      <td id=\"T_8a14b_row6_col0\" class=\"data row6 col0\" >Bangalore</td>\n",
       "      <td id=\"T_8a14b_row6_col1\" class=\"data row6 col1\" >HSR</td>\n",
       "      <td id=\"T_8a14b_row6_col2\" class=\"data row6 col2\" >HRX by Eatfit</td>\n",
       "      <td id=\"T_8a14b_row6_col3\" class=\"data row6 col3\" >5.000000</td>\n",
       "      <td id=\"T_8a14b_row6_col4\" class=\"data row6 col4\" >20</td>\n",
       "    </tr>\n",
       "    <tr>\n",
       "      <th id=\"T_8a14b_level0_row7\" class=\"row_heading level0 row7\" >151471</th>\n",
       "      <td id=\"T_8a14b_row7_col0\" class=\"data row7 col0\" >Bangalore</td>\n",
       "      <td id=\"T_8a14b_row7_col1\" class=\"data row7 col1\" >Arekere</td>\n",
       "      <td id=\"T_8a14b_row7_col2\" class=\"data row7 col2\" >Snack Ride</td>\n",
       "      <td id=\"T_8a14b_row7_col3\" class=\"data row7 col3\" >5.000000</td>\n",
       "      <td id=\"T_8a14b_row7_col4\" class=\"data row7 col4\" >20</td>\n",
       "    </tr>\n",
       "    <tr>\n",
       "      <th id=\"T_8a14b_level0_row8\" class=\"row_heading level0 row8\" >152240</th>\n",
       "      <td id=\"T_8a14b_row8_col0\" class=\"data row8 col0\" >Bangalore</td>\n",
       "      <td id=\"T_8a14b_row8_col1\" class=\"data row8 col1\" >Indiranagar</td>\n",
       "      <td id=\"T_8a14b_row8_col2\" class=\"data row8 col2\" >JUST CREAMERY - Artisanal Healthy Ice Cream</td>\n",
       "      <td id=\"T_8a14b_row8_col3\" class=\"data row8 col3\" >5.000000</td>\n",
       "      <td id=\"T_8a14b_row8_col4\" class=\"data row8 col4\" >20</td>\n",
       "    </tr>\n",
       "    <tr>\n",
       "      <th id=\"T_8a14b_level0_row9\" class=\"row_heading level0 row9\" >152362</th>\n",
       "      <td id=\"T_8a14b_row9_col0\" class=\"data row9 col0\" >Bangalore</td>\n",
       "      <td id=\"T_8a14b_row9_col1\" class=\"data row9 col1\" >Indiranagar</td>\n",
       "      <td id=\"T_8a14b_row9_col2\" class=\"data row9 col2\" >Fresh crunch pizza</td>\n",
       "      <td id=\"T_8a14b_row9_col3\" class=\"data row9 col3\" >5.000000</td>\n",
       "      <td id=\"T_8a14b_row9_col4\" class=\"data row9 col4\" >20</td>\n",
       "    </tr>\n",
       "  </tbody>\n",
       "</table>\n"
      ],
      "text/plain": [
       "<pandas.io.formats.style.Styler at 0x7fde680beed0>"
      ]
     },
     "metadata": {},
     "output_type": "display_data"
    }
   ],
   "source": [
    "rest_df12 = rest_df2[rest_df2.city == 'Bangalore']\n",
    "rest_df12 = rest_df12.sort_values(by = ['rating', 'rating_count_val'], ascending = False)\\\n",
    "        [['city', 'sub-region', 'restaurant', 'rating', 'rating_count_val']]\n",
    "markdown_content = '**Top 10 Restaurants with Maximum Ratings in Banglore:**'\n",
    "display(Markdown(markdown_content))\n",
    "display(apply_common_styling(rest_df12.round(2).head(10)))"
   ]
  },
  {
   "cell_type": "markdown",
   "id": "87f3f422",
   "metadata": {},
   "source": [
    "<a id = \"q13\"></a>\n",
    "## Question 13\n",
    "\n",
    "Top 10 Restaurant in Patna w.r.t rating"
   ]
  },
  {
   "cell_type": "code",
   "execution_count": 18,
   "id": "dc06835f",
   "metadata": {},
   "outputs": [
    {
     "data": {
      "text/markdown": [
       "**Top 10 Restaurant in Patna w.r.t rating:**"
      ],
      "text/plain": [
       "<IPython.core.display.Markdown object>"
      ]
     },
     "metadata": {},
     "output_type": "display_data"
    },
    {
     "data": {
      "text/html": [
       "<style type=\"text/css\">\n",
       "#T_18442_ thead {\n",
       "  background-color: skyblue;\n",
       "  font-size: 14px;\n",
       "  font-weight: bold;\n",
       "}\n",
       "#T_18442_ tbody {\n",
       "  font-size: 12px;\n",
       "}\n",
       "#T_18442_ th {\n",
       "  text-align: center;\n",
       "  font-size: 12px;\n",
       "}\n",
       "#T_18442_ td {\n",
       "  text-align: left;\n",
       "}\n",
       "#T_18442_ .row_heading {\n",
       "  display: none;\n",
       "}\n",
       "#T_18442_ .blank.level0 {\n",
       "  display: none;\n",
       "}\n",
       "</style>\n",
       "<table id=\"T_18442_\">\n",
       "  <thead>\n",
       "    <tr>\n",
       "      <th class=\"blank level0\" >&nbsp;</th>\n",
       "      <th class=\"col_heading level0 col0\" >city</th>\n",
       "      <th class=\"col_heading level0 col1\" >sub-region</th>\n",
       "      <th class=\"col_heading level0 col2\" >restaurant</th>\n",
       "      <th class=\"col_heading level0 col3\" >rating</th>\n",
       "      <th class=\"col_heading level0 col4\" >rating_count_val</th>\n",
       "    </tr>\n",
       "  </thead>\n",
       "  <tbody>\n",
       "    <tr>\n",
       "      <th id=\"T_18442_level0_row0\" class=\"row_heading level0 row0\" >51831</th>\n",
       "      <td id=\"T_18442_row0_col0\" class=\"data row0 col0\" >Patna</td>\n",
       "      <td id=\"T_18442_row0_col1\" class=\"data row0 col1\" >None</td>\n",
       "      <td id=\"T_18442_row0_col2\" class=\"data row0 col2\" >Kwality Walls Frozen Dessert and Ice Cream Shop</td>\n",
       "      <td id=\"T_18442_row0_col3\" class=\"data row0 col3\" >4.600000</td>\n",
       "      <td id=\"T_18442_row0_col4\" class=\"data row0 col4\" >1000</td>\n",
       "    </tr>\n",
       "    <tr>\n",
       "      <th id=\"T_18442_level0_row1\" class=\"row_heading level0 row1\" >52031</th>\n",
       "      <td id=\"T_18442_row1_col0\" class=\"data row1 col0\" >Patna</td>\n",
       "      <td id=\"T_18442_row1_col1\" class=\"data row1 col1\" >None</td>\n",
       "      <td id=\"T_18442_row1_col2\" class=\"data row1 col2\" >Slurpy Shakes</td>\n",
       "      <td id=\"T_18442_row1_col3\" class=\"data row1 col3\" >4.600000</td>\n",
       "      <td id=\"T_18442_row1_col4\" class=\"data row1 col4\" >50</td>\n",
       "    </tr>\n",
       "    <tr>\n",
       "      <th id=\"T_18442_level0_row2\" class=\"row_heading level0 row2\" >52019</th>\n",
       "      <td id=\"T_18442_row2_col0\" class=\"data row2 col0\" >Patna</td>\n",
       "      <td id=\"T_18442_row2_col1\" class=\"data row2 col1\" >None</td>\n",
       "      <td id=\"T_18442_row2_col2\" class=\"data row2 col2\" >Kouzina Kafe The Food Court</td>\n",
       "      <td id=\"T_18442_row2_col3\" class=\"data row2 col3\" >4.500000</td>\n",
       "      <td id=\"T_18442_row2_col4\" class=\"data row2 col4\" >50</td>\n",
       "    </tr>\n",
       "    <tr>\n",
       "      <th id=\"T_18442_level0_row3\" class=\"row_heading level0 row3\" >52320</th>\n",
       "      <td id=\"T_18442_row3_col0\" class=\"data row3 col0\" >Patna</td>\n",
       "      <td id=\"T_18442_row3_col1\" class=\"data row3 col1\" >None</td>\n",
       "      <td id=\"T_18442_row3_col2\" class=\"data row3 col2\" >GARAGE KITCHEN</td>\n",
       "      <td id=\"T_18442_row3_col3\" class=\"data row3 col3\" >4.500000</td>\n",
       "      <td id=\"T_18442_row3_col4\" class=\"data row3 col4\" >50</td>\n",
       "    </tr>\n",
       "    <tr>\n",
       "      <th id=\"T_18442_level0_row4\" class=\"row_heading level0 row4\" >52065</th>\n",
       "      <td id=\"T_18442_row4_col0\" class=\"data row4 col0\" >Patna</td>\n",
       "      <td id=\"T_18442_row4_col1\" class=\"data row4 col1\" >None</td>\n",
       "      <td id=\"T_18442_row4_col2\" class=\"data row4 col2\" >Cupcake Bliss Cake & Desserts</td>\n",
       "      <td id=\"T_18442_row4_col3\" class=\"data row4 col3\" >4.500000</td>\n",
       "      <td id=\"T_18442_row4_col4\" class=\"data row4 col4\" >20</td>\n",
       "    </tr>\n",
       "    <tr>\n",
       "      <th id=\"T_18442_level0_row5\" class=\"row_heading level0 row5\" >52088</th>\n",
       "      <td id=\"T_18442_row5_col0\" class=\"data row5 col0\" >Patna</td>\n",
       "      <td id=\"T_18442_row5_col1\" class=\"data row5 col1\" >None</td>\n",
       "      <td id=\"T_18442_row5_col2\" class=\"data row5 col2\" >Burger It Up</td>\n",
       "      <td id=\"T_18442_row5_col3\" class=\"data row5 col3\" >4.500000</td>\n",
       "      <td id=\"T_18442_row5_col4\" class=\"data row5 col4\" >20</td>\n",
       "    </tr>\n",
       "    <tr>\n",
       "      <th id=\"T_18442_level0_row6\" class=\"row_heading level0 row6\" >52037</th>\n",
       "      <td id=\"T_18442_row6_col0\" class=\"data row6 col0\" >Patna</td>\n",
       "      <td id=\"T_18442_row6_col1\" class=\"data row6 col1\" >None</td>\n",
       "      <td id=\"T_18442_row6_col2\" class=\"data row6 col2\" >Indiana Burgers</td>\n",
       "      <td id=\"T_18442_row6_col3\" class=\"data row6 col3\" >4.400000</td>\n",
       "      <td id=\"T_18442_row6_col4\" class=\"data row6 col4\" >50</td>\n",
       "    </tr>\n",
       "    <tr>\n",
       "      <th id=\"T_18442_level0_row7\" class=\"row_heading level0 row7\" >52048</th>\n",
       "      <td id=\"T_18442_row7_col0\" class=\"data row7 col0\" >Patna</td>\n",
       "      <td id=\"T_18442_row7_col1\" class=\"data row7 col1\" >None</td>\n",
       "      <td id=\"T_18442_row7_col2\" class=\"data row7 col2\" >The Dessert Zone</td>\n",
       "      <td id=\"T_18442_row7_col3\" class=\"data row7 col3\" >4.400000</td>\n",
       "      <td id=\"T_18442_row7_col4\" class=\"data row7 col4\" >50</td>\n",
       "    </tr>\n",
       "    <tr>\n",
       "      <th id=\"T_18442_level0_row8\" class=\"row_heading level0 row8\" >52274</th>\n",
       "      <td id=\"T_18442_row8_col0\" class=\"data row8 col0\" >Patna</td>\n",
       "      <td id=\"T_18442_row8_col1\" class=\"data row8 col1\" >None</td>\n",
       "      <td id=\"T_18442_row8_col2\" class=\"data row8 col2\" >KINGDOM OF MOMOS</td>\n",
       "      <td id=\"T_18442_row8_col3\" class=\"data row8 col3\" >4.400000</td>\n",
       "      <td id=\"T_18442_row8_col4\" class=\"data row8 col4\" >50</td>\n",
       "    </tr>\n",
       "    <tr>\n",
       "      <th id=\"T_18442_level0_row9\" class=\"row_heading level0 row9\" >52097</th>\n",
       "      <td id=\"T_18442_row9_col0\" class=\"data row9 col0\" >Patna</td>\n",
       "      <td id=\"T_18442_row9_col1\" class=\"data row9 col1\" >None</td>\n",
       "      <td id=\"T_18442_row9_col2\" class=\"data row9 col2\" >Pure Veg Meals by Lunchbox</td>\n",
       "      <td id=\"T_18442_row9_col3\" class=\"data row9 col3\" >4.400000</td>\n",
       "      <td id=\"T_18442_row9_col4\" class=\"data row9 col4\" >20</td>\n",
       "    </tr>\n",
       "  </tbody>\n",
       "</table>\n"
      ],
      "text/plain": [
       "<pandas.io.formats.style.Styler at 0x7fde5e665f90>"
      ]
     },
     "metadata": {},
     "output_type": "display_data"
    }
   ],
   "source": [
    "rest_df13 = rest_df2[rest_df2.city == 'Patna']\n",
    "rest_df13 = rest_df13.sort_values(by = ['rating', 'rating_count_val'], ascending = False)\\\n",
    "    [['city', 'sub-region', 'restaurant', 'rating', 'rating_count_val']]\n",
    "markdown_content = '**Top 10 Restaurant in Patna w.r.t rating:**'\n",
    "display(Markdown(markdown_content))\n",
    "display(apply_common_styling(rest_df13.round(2).head(10)))"
   ]
  },
  {
   "cell_type": "markdown",
   "id": "666cdce4",
   "metadata": {},
   "source": [
    "[<h1>Page Top</h1>](#summary)"
   ]
  }
 ],
 "metadata": {
  "kernelspec": {
   "display_name": "Python 3 (ipykernel)",
   "language": "python",
   "name": "python3"
  },
  "language_info": {
   "codemirror_mode": {
    "name": "ipython",
    "version": 3
   },
   "file_extension": ".py",
   "mimetype": "text/x-python",
   "name": "python",
   "nbconvert_exporter": "python",
   "pygments_lexer": "ipython3",
   "version": "3.7.5"
  }
 },
 "nbformat": 4,
 "nbformat_minor": 5
}
